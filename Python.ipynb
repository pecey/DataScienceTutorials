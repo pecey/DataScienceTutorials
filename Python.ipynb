{
  "nbformat": 4,
  "nbformat_minor": 0,
  "metadata": {
    "kernelspec": {
      "name": "python3",
      "display_name": "Python 3"
    },
    "language_info": {
      "codemirror_mode": {
        "name": "ipython",
        "version": 3
      },
      "file_extension": ".py",
      "mimetype": "text/x-python",
      "name": "python",
      "nbconvert_exporter": "python",
      "pygments_lexer": "ipython3",
      "version": "3.7.4"
    },
    "colab": {
      "name": "Python.ipynb",
      "provenance": [],
      "collapsed_sections": [],
      "include_colab_link": true
    },
    "accelerator": "GPU"
  },
  "cells": [
    {
      "cell_type": "markdown",
      "metadata": {
        "id": "view-in-github",
        "colab_type": "text"
      },
      "source": [
        "<a href=\"https://colab.research.google.com/github/pecey/PythonTutorials/blob/master/Python.ipynb\" target=\"_parent\"><img src=\"https://colab.research.google.com/assets/colab-badge.svg\" alt=\"Open In Colab\"/></a>"
      ]
    },
    {
      "cell_type": "markdown",
      "metadata": {
        "id": "cceJrmMgEhaw",
        "colab_type": "text"
      },
      "source": [
        "## Hello World"
      ]
    },
    {
      "cell_type": "code",
      "metadata": {
        "id": "OxFI686OEha1",
        "colab_type": "code",
        "outputId": "44e8bbc4-e0a4-429e-fa48-df23a0eb6f93",
        "colab": {
          "base_uri": "https://localhost:8080/",
          "height": 34
        }
      },
      "source": [
        "print(\"Hello World\")"
      ],
      "execution_count": 0,
      "outputs": [
        {
          "output_type": "stream",
          "text": [
            "Hello World\n"
          ],
          "name": "stdout"
        }
      ]
    },
    {
      "cell_type": "markdown",
      "metadata": {
        "id": "1JmBLE_sEha-",
        "colab_type": "text"
      },
      "source": [
        "## Variables"
      ]
    },
    {
      "cell_type": "code",
      "metadata": {
        "id": "PJe9NxaSEha_",
        "colab_type": "code",
        "outputId": "b31cf9e6-b89c-4dd4-dcd0-76cc1614afcb",
        "colab": {
          "base_uri": "https://localhost:8080/",
          "height": 34
        }
      },
      "source": [
        "# String\n",
        "a = \"Hello World\"\n",
        "\n",
        "# Integers\n",
        "b = 4\n",
        "\n",
        "# Decimals\n",
        "c = 3.14\n",
        "\n",
        "# Print all the variables separated by space\n",
        "print(a,b,c)"
      ],
      "execution_count": 0,
      "outputs": [
        {
          "output_type": "stream",
          "text": [
            "Hello World 4 3.14\n"
          ],
          "name": "stdout"
        }
      ]
    },
    {
      "cell_type": "markdown",
      "metadata": {
        "id": "MfyqcBeKEhbE",
        "colab_type": "text"
      },
      "source": [
        "### Strings"
      ]
    },
    {
      "cell_type": "markdown",
      "metadata": {
        "id": "XNgwJUzuEhbG",
        "colab_type": "text"
      },
      "source": [
        "String is one of the most common used data type in Python. You create a string by enclosing some characters or numbers in single (') or double (\") quotes."
      ]
    },
    {
      "cell_type": "code",
      "metadata": {
        "id": "FPVOLG18EhbI",
        "colab_type": "code",
        "outputId": "8669440b-6535-4a67-925f-b4e9e5f914c5",
        "colab": {
          "base_uri": "https://localhost:8080/",
          "height": 34
        }
      },
      "source": [
        "first_string = \"Hello\"\n",
        "second_string = \"World\"\n",
        "\n",
        "# String concatenation\n",
        "print(first_string + second_string)"
      ],
      "execution_count": 0,
      "outputs": [
        {
          "output_type": "stream",
          "text": [
            "HelloWorld\n"
          ],
          "name": "stdout"
        }
      ]
    },
    {
      "cell_type": "code",
      "metadata": {
        "id": "VLKFTUeCEhbM",
        "colab_type": "code",
        "outputId": "66c1ab24-4a76-47e3-f5e2-058142df4f6e",
        "colab": {
          "base_uri": "https://localhost:8080/",
          "height": 34
        }
      },
      "source": [
        "# Adding a space in between words\n",
        "print(first_string + \" \" + second_string)"
      ],
      "execution_count": 0,
      "outputs": [
        {
          "output_type": "stream",
          "text": [
            "Hello World\n"
          ],
          "name": "stdout"
        }
      ]
    },
    {
      "cell_type": "code",
      "metadata": {
        "id": "W3Xg5aqMEhbR",
        "colab_type": "code",
        "outputId": "c1df0191-8f15-4446-86da-0f84116f5771",
        "colab": {
          "base_uri": "https://localhost:8080/",
          "height": 34
        }
      },
      "source": [
        "# Better way to add spaces. Or create a string in general\n",
        "print(\"{} {}\".format(first_string, second_string))"
      ],
      "execution_count": 0,
      "outputs": [
        {
          "output_type": "stream",
          "text": [
            "Hello World\n"
          ],
          "name": "stdout"
        }
      ]
    },
    {
      "cell_type": "code",
      "metadata": {
        "id": "92jiQT5p3TA8",
        "colab_type": "code",
        "outputId": "22332a24-d6e5-4669-ee50-851b7c7fec76",
        "colab": {
          "base_uri": "https://localhost:8080/",
          "height": 68
        }
      },
      "source": [
        "#Interconversion\n",
        "x = 20\n",
        "print(type(x))\n",
        "xf = float(x)\n",
        "print(type(xf))\n",
        "xs = str(x)\n",
        "print(type(xs))"
      ],
      "execution_count": 0,
      "outputs": [
        {
          "output_type": "stream",
          "text": [
            "<class 'int'>\n",
            "<class 'float'>\n",
            "<class 'str'>\n"
          ],
          "name": "stdout"
        }
      ]
    },
    {
      "cell_type": "code",
      "metadata": {
        "id": "Ji3k55nqOsBc",
        "colab_type": "code",
        "outputId": "9e67c1da-e3f0-4303-ffbf-fea8f0f2e41d",
        "colab": {
          "base_uri": "https://localhost:8080/",
          "height": 34
        }
      },
      "source": [
        "print(\" The integer is \"+ str(x) + \", the float is \"+str(xf)+ \" and the string is \"+str(xs))"
      ],
      "execution_count": 0,
      "outputs": [
        {
          "output_type": "stream",
          "text": [
            " The integer is 20, the float is 20.0 and the string is 20\n"
          ],
          "name": "stdout"
        }
      ]
    },
    {
      "cell_type": "markdown",
      "metadata": {
        "id": "k7tRgEMfEhbV",
        "colab_type": "text"
      },
      "source": [
        "## Data Structures\n",
        "\n",
        "More here: https://docs.python.org/3/tutorial/datastructures.html"
      ]
    },
    {
      "cell_type": "markdown",
      "metadata": {
        "id": "eJD2GouaEhbW",
        "colab_type": "text"
      },
      "source": [
        "- List\n",
        "- Set\n",
        "- Dictionary"
      ]
    },
    {
      "cell_type": "markdown",
      "metadata": {
        "id": "L0SgZuB4EhbY",
        "colab_type": "text"
      },
      "source": [
        "### List"
      ]
    },
    {
      "cell_type": "code",
      "metadata": {
        "id": "lw5gxN79EhbZ",
        "colab_type": "code",
        "colab": {}
      },
      "source": [
        "# Create an empty list\n",
        "empty_list = list()\n",
        "empty_list_2 = []\n",
        "\n",
        "# Initialise a list with a few elements.\n",
        "# Unlike other languages, can hold data of any type.\n",
        "my_list = [\"Hello\", \"World\", 4, 3.14, []]"
      ],
      "execution_count": 0,
      "outputs": []
    },
    {
      "cell_type": "code",
      "metadata": {
        "id": "wHWSjd8nEhbe",
        "colab_type": "code",
        "outputId": "bcc96aa8-ce87-459d-83e4-b03bf258b367",
        "colab": {
          "base_uri": "https://localhost:8080/",
          "height": 34
        }
      },
      "source": [
        "# Retrieve data from list using index\n",
        "print(my_list[2])"
      ],
      "execution_count": 0,
      "outputs": [
        {
          "output_type": "stream",
          "text": [
            "4\n"
          ],
          "name": "stdout"
        }
      ]
    },
    {
      "cell_type": "markdown",
      "metadata": {
        "id": "Q_BLqq3hEhbh",
        "colab_type": "text"
      },
      "source": [
        "#### Methods on list"
      ]
    },
    {
      "cell_type": "code",
      "metadata": {
        "id": "pU80c8AnEhbi",
        "colab_type": "code",
        "outputId": "e5c5c51c-9251-42d1-f628-19437229afb4",
        "colab": {
          "base_uri": "https://localhost:8080/",
          "height": 34
        }
      },
      "source": [
        "# Add an element to the end of the list\n",
        "my_list.append(9)\n",
        "print(my_list)"
      ],
      "execution_count": 0,
      "outputs": [
        {
          "output_type": "stream",
          "text": [
            "['Hello', 'World', 4, 3.14, [], 9]\n"
          ],
          "name": "stdout"
        }
      ]
    },
    {
      "cell_type": "code",
      "metadata": {
        "id": "2hTUy8S9Ehbm",
        "colab_type": "code",
        "outputId": "02d1d137-ed0b-4760-da9c-5376d4f48b34",
        "colab": {
          "base_uri": "https://localhost:8080/",
          "height": 34
        }
      },
      "source": [
        "# Add multiple elements at once to the back of the list. \n",
        "# Notice that although the parameter to extend is a list, it adds the elements individually\n",
        "my_list.extend([10,11])\n",
        "print(my_list)"
      ],
      "execution_count": 0,
      "outputs": [
        {
          "output_type": "stream",
          "text": [
            "['Hello', 'World', 4, 3.14, [], 9, 10, 11]\n"
          ],
          "name": "stdout"
        }
      ]
    },
    {
      "cell_type": "code",
      "metadata": {
        "id": "pbQjulr5Ehbq",
        "colab_type": "code",
        "outputId": "c3ce9fd1-99cf-45ea-be82-8c0fbc297e5e",
        "colab": {
          "base_uri": "https://localhost:8080/",
          "height": 34
        }
      },
      "source": [
        "# Insert element at a specific index of the list\n",
        "my_list.insert(1, \"Everyone\")\n",
        "print(my_list)"
      ],
      "execution_count": 0,
      "outputs": [
        {
          "output_type": "stream",
          "text": [
            "['Hello', 'Everyone', 'World', 4, 3.14, [], 9, 10, 11]\n"
          ],
          "name": "stdout"
        }
      ]
    },
    {
      "cell_type": "code",
      "metadata": {
        "id": "yC61dBqMEhbu",
        "colab_type": "code",
        "outputId": "2d817a4f-ec9c-4f45-f21d-5293c7c549fa",
        "colab": {
          "base_uri": "https://localhost:8080/",
          "height": 51
        }
      },
      "source": [
        "# Remove the first occurance of a given element\n",
        "my_list.append(10)\n",
        "print(\"Before removal {}\".format(my_list))\n",
        "my_list.remove(10)  \n",
        "print(\"After removal {}\".format(my_list))"
      ],
      "execution_count": 0,
      "outputs": [
        {
          "output_type": "stream",
          "text": [
            "Before removal ['Hello', 'Everyone', 'World', 4, 3.14, [], 9, 10, 11, 10]\n",
            "After removal ['Hello', 'Everyone', 'World', 4, 3.14, [], 9, 11, 10]\n"
          ],
          "name": "stdout"
        }
      ]
    },
    {
      "cell_type": "code",
      "metadata": {
        "id": "sEpc4Ww0Ehbx",
        "colab_type": "code",
        "outputId": "5ee4a032-2ab9-43b4-ddb9-d43df3d0b40d",
        "colab": {
          "base_uri": "https://localhost:8080/",
          "height": 85
        }
      },
      "source": [
        "# Remove the last element from the list. If index is passed, then remove the particular element from list\n",
        "temp = my_list.pop()\n",
        "print(temp)\n",
        "print(my_list)\n",
        "\n",
        "temp = my_list.pop(2)\n",
        "print(temp)\n",
        "print(my_list)"
      ],
      "execution_count": 0,
      "outputs": [
        {
          "output_type": "stream",
          "text": [
            "10\n",
            "['Hello', 'Everyone', 'World', 4, 3.14, [], 9, 11]\n",
            "World\n",
            "['Hello', 'Everyone', 4, 3.14, [], 9, 11]\n"
          ],
          "name": "stdout"
        }
      ]
    },
    {
      "cell_type": "code",
      "metadata": {
        "id": "cwHxjpuYEhb2",
        "colab_type": "code",
        "colab": {}
      },
      "source": [
        "# Sort a list\n",
        "unsorted_list = [1,2,87,3,56,391,32,46,0, -1]\n",
        "sorted_list = unsorted_list.sort()\n",
        "#unsorted_list\n",
        "sorted_list"
      ],
      "execution_count": 0,
      "outputs": []
    },
    {
      "cell_type": "code",
      "metadata": {
        "id": "9A6VaQkuEhb5",
        "colab_type": "code",
        "outputId": "69735138-f3f5-41db-e69a-10ea17bd033d",
        "colab": {
          "base_uri": "https://localhost:8080/",
          "height": 51
        }
      },
      "source": [
        "# Reverse a list\n",
        "print(my_list)\n",
        "my_list.reverse()\n",
        "print(my_list)"
      ],
      "execution_count": 0,
      "outputs": [
        {
          "output_type": "stream",
          "text": [
            "['Hello', 'Everyone', 4, 3.14, [], 9, 11]\n",
            "[11, 9, [], 3.14, 4, 'Everyone', 'Hello']\n"
          ],
          "name": "stdout"
        }
      ]
    },
    {
      "cell_type": "markdown",
      "metadata": {
        "id": "vkK8PhZDEhb8",
        "colab_type": "text"
      },
      "source": [
        "### Set"
      ]
    },
    {
      "cell_type": "markdown",
      "metadata": {
        "id": "vBrqLaPLEhb-",
        "colab_type": "text"
      },
      "source": [
        "> A set is an **unordered** collection with no duplicate elements. Set objects also support mathematical operations like union, intersection, difference, and symmetric difference.\n",
        "\n",
        "> Mutable — the contents can be changed using methods like add() and remove()\n",
        "\n",
        "More : https://docs.python.org/3/library/stdtypes.html#set"
      ]
    },
    {
      "cell_type": "code",
      "metadata": {
        "id": "fj30s8kKEhb_",
        "colab_type": "code",
        "outputId": "1469b53e-1bd5-40fe-e02a-dad961bf049a",
        "colab": {
          "base_uri": "https://localhost:8080/",
          "height": 34
        }
      },
      "source": [
        "empty_set = set()\n",
        "empty_set.add(\"Element\")\n",
        "print(empty_set)"
      ],
      "execution_count": 0,
      "outputs": [
        {
          "output_type": "stream",
          "text": [
            "{'Element'}\n"
          ],
          "name": "stdout"
        }
      ]
    },
    {
      "cell_type": "code",
      "metadata": {
        "id": "Mvuz0fc_EhcB",
        "colab_type": "code",
        "outputId": "2a10e797-f410-4795-f7c4-d2fe21a230e4",
        "colab": {
          "base_uri": "https://localhost:8080/",
          "height": 34
        }
      },
      "source": [
        "basket = {'apple', 'orange', 'apple', 'pear', 'orange', 'banana'}\n",
        "print(basket)"
      ],
      "execution_count": 0,
      "outputs": [
        {
          "output_type": "stream",
          "text": [
            "{'pear', 'apple', 'banana', 'orange'}\n"
          ],
          "name": "stdout"
        }
      ]
    },
    {
      "cell_type": "code",
      "metadata": {
        "id": "oJwbcHI5EhcG",
        "colab_type": "code",
        "outputId": "8fc305d3-59ca-4fa0-aa8c-d227804a7f34",
        "colab": {
          "base_uri": "https://localhost:8080/",
          "height": 51
        }
      },
      "source": [
        "# Checking the set for presence or absence\n",
        "print(\"orange\" in basket)\n",
        "print(\"carrot\" in basket)"
      ],
      "execution_count": 0,
      "outputs": [
        {
          "output_type": "stream",
          "text": [
            "True\n",
            "False\n"
          ],
          "name": "stdout"
        }
      ]
    },
    {
      "cell_type": "markdown",
      "metadata": {
        "id": "u-T5bR62EhcI",
        "colab_type": "text"
      },
      "source": [
        "### Dictionary"
      ]
    },
    {
      "cell_type": "markdown",
      "metadata": {
        "id": "rKEAngxcEhcK",
        "colab_type": "text"
      },
      "source": [
        "> It is best to think of a dictionary as a set of *key: value* pairs, with the requirement that the keys are unique (within one dictionary).\n",
        "\n",
        "> Dictionaries are indexed by keys, which can be any **immutable** type; strings and numbers can always be keys. Tuples can be used as keys if they contain only strings, numbers, or tuples; if a tuple contains any mutable object either directly or indirectly, it cannot be used as a key. You can’t use lists as keys"
      ]
    },
    {
      "cell_type": "code",
      "metadata": {
        "id": "qBKi7nqREhcK",
        "colab_type": "code",
        "outputId": "4a0a6b7a-e1eb-4963-9a80-ec0fd91204b5",
        "colab": {
          "base_uri": "https://localhost:8080/",
          "height": 34
        }
      },
      "source": [
        "tel = {'jack': 4098, 'harry': 4139}\n",
        "tel['ron'] = 4127\n",
        "\n",
        "print(tel)"
      ],
      "execution_count": 0,
      "outputs": [
        {
          "output_type": "stream",
          "text": [
            "{'jack': 4098, 'harry': 4139, 'ron': 4127}\n"
          ],
          "name": "stdout"
        }
      ]
    },
    {
      "cell_type": "code",
      "metadata": {
        "id": "jweuv5abEhcO",
        "colab_type": "code",
        "outputId": "b3339061-3f85-47e1-ab5b-ef4b20d2f856",
        "colab": {
          "base_uri": "https://localhost:8080/",
          "height": 34
        }
      },
      "source": [
        "# Overwrite an existing key\n",
        "tel['ron'] = 5000\n",
        "print(tel)"
      ],
      "execution_count": 0,
      "outputs": [
        {
          "output_type": "stream",
          "text": [
            "{'jack': 4098, 'harry': 4139, 'ron': 5000}\n"
          ],
          "name": "stdout"
        }
      ]
    },
    {
      "cell_type": "code",
      "metadata": {
        "id": "p0v49v7EEhcR",
        "colab_type": "code",
        "outputId": "4b0073c0-f12d-4e0a-b68c-2c390c49610b",
        "colab": {
          "base_uri": "https://localhost:8080/",
          "height": 51
        }
      },
      "source": [
        "# Check if present\n",
        "print(\"ron\" in tel)\n",
        "\n",
        "# Checks only on keys\n",
        "print(5000 in tel)"
      ],
      "execution_count": 0,
      "outputs": [
        {
          "output_type": "stream",
          "text": [
            "True\n",
            "False\n"
          ],
          "name": "stdout"
        }
      ]
    },
    {
      "cell_type": "code",
      "metadata": {
        "id": "qCA4JbJ_EhcU",
        "colab_type": "code",
        "outputId": "94696409-3ddb-4e0b-c509-832f983df27c",
        "colab": {
          "base_uri": "https://localhost:8080/",
          "height": 51
        }
      },
      "source": [
        "# Get keys of dictionary\n",
        "print(list(tel))\n",
        "\n",
        "# Notice the type. Returns an object of dict_keys\n",
        "print(tel.keys())"
      ],
      "execution_count": 0,
      "outputs": [
        {
          "output_type": "stream",
          "text": [
            "['jack', 'harry', 'ron']\n",
            "dict_keys(['jack', 'harry', 'ron'])\n"
          ],
          "name": "stdout"
        }
      ]
    },
    {
      "cell_type": "markdown",
      "metadata": {
        "id": "94hgwBJ2EhcX",
        "colab_type": "text"
      },
      "source": [
        "## Loops"
      ]
    },
    {
      "cell_type": "markdown",
      "metadata": {
        "id": "ZqERSE2uEhcY",
        "colab_type": "text"
      },
      "source": [
        "There are two types of loops in Python.\n",
        "- for\n",
        "- while.\n",
        "\n",
        "For loops iterate over a given sequence. Here is an example:"
      ]
    },
    {
      "cell_type": "code",
      "metadata": {
        "id": "9ws6veHYEhcY",
        "colab_type": "code",
        "outputId": "5e2846cc-cc36-4971-94d1-76360047763a",
        "colab": {
          "base_uri": "https://localhost:8080/",
          "height": 85
        }
      },
      "source": [
        "# Iterate over a list\n",
        "primes = [2, 3, 5, 7]\n",
        "for prime in primes:\n",
        "    print(prime)"
      ],
      "execution_count": 0,
      "outputs": [
        {
          "output_type": "stream",
          "text": [
            "2\n",
            "3\n",
            "5\n",
            "7\n"
          ],
          "name": "stdout"
        }
      ]
    },
    {
      "cell_type": "code",
      "metadata": {
        "id": "5i5PlaKUEhcc",
        "colab_type": "code",
        "outputId": "4657b459-8bac-4df2-e2f7-b4357e48d996",
        "colab": {
          "base_uri": "https://localhost:8080/",
          "height": 187
        }
      },
      "source": [
        "# Iterate over a range of numbers\n",
        "# Notice : last number in range is always excluded\n",
        "for num in range(0,10,1):\n",
        "    print(num)"
      ],
      "execution_count": 0,
      "outputs": [
        {
          "output_type": "stream",
          "text": [
            "0\n",
            "1\n",
            "2\n",
            "3\n",
            "4\n",
            "5\n",
            "6\n",
            "7\n",
            "8\n",
            "9\n"
          ],
          "name": "stdout"
        }
      ]
    },
    {
      "cell_type": "code",
      "metadata": {
        "id": "ZODyVubwEhcg",
        "colab_type": "code",
        "outputId": "5491219d-555a-4096-c320-7758658d1ce9",
        "colab": {
          "base_uri": "https://localhost:8080/",
          "height": 102
        }
      },
      "source": [
        "# Iterate over the words as well as index of the word\n",
        "words = [\"Hello\", \"World\", \"Python\", \"is\", \"awesome\"]\n",
        "for index, word in enumerate(words):\n",
        "    print(\"Index {}: Word {}\".format(index, word))"
      ],
      "execution_count": 0,
      "outputs": [
        {
          "output_type": "stream",
          "text": [
            "Index 0: Word Hello\n",
            "Index 1: Word World\n",
            "Index 2: Word Python\n",
            "Index 3: Word is\n",
            "Index 4: Word awesome\n"
          ],
          "name": "stdout"
        }
      ]
    },
    {
      "cell_type": "markdown",
      "metadata": {
        "id": "vO1O_6JwEhck",
        "colab_type": "text"
      },
      "source": [
        "### Lambdas"
      ]
    },
    {
      "cell_type": "markdown",
      "metadata": {
        "id": "dzHod5Y9Ehcl",
        "colab_type": "text"
      },
      "source": [
        "> Python supports the creation of anonymous functions (i.e. functions that are not bound to a name) at runtime, using a construct called \"lambda\". They are often used in conjunction with typical functional concepts like filter(), map() and reduce()"
      ]
    },
    {
      "cell_type": "code",
      "metadata": {
        "id": "AQowJq41Ehcm",
        "colab_type": "code",
        "outputId": "ecc957d5-76fd-4b2c-f02a-e09a14f55a38",
        "colab": {}
      },
      "source": [
        "def f (x): return x**2\n",
        "print(f(8))"
      ],
      "execution_count": 0,
      "outputs": [
        {
          "output_type": "stream",
          "text": [
            "64\n"
          ],
          "name": "stdout"
        }
      ]
    },
    {
      "cell_type": "code",
      "metadata": {
        "id": "cvUjBjefEhcp",
        "colab_type": "code",
        "outputId": "4eae9493-a8cd-46a1-9ad8-4101fbc7cb67",
        "colab": {}
      },
      "source": [
        "g = lambda x: x**2\n",
        "print(g(8))"
      ],
      "execution_count": 0,
      "outputs": [
        {
          "output_type": "stream",
          "text": [
            "64\n"
          ],
          "name": "stdout"
        }
      ]
    },
    {
      "cell_type": "markdown",
      "metadata": {
        "id": "H-IGjiosEhcr",
        "colab_type": "text"
      },
      "source": [
        "The advantage of a lambda is not evident from this example. It would be better understood when used in conjunction of concepts like filter(), map() and reduce() "
      ]
    },
    {
      "cell_type": "markdown",
      "metadata": {
        "id": "pzHTqEqZEhcs",
        "colab_type": "text"
      },
      "source": [
        "### Map"
      ]
    },
    {
      "cell_type": "markdown",
      "metadata": {
        "id": "d0htoaKmEhcs",
        "colab_type": "text"
      },
      "source": [
        "> Applying an operation to each item of a list or sequence and collect the result. "
      ]
    },
    {
      "cell_type": "code",
      "metadata": {
        "id": "1ItSAX5FEhct",
        "colab_type": "code",
        "outputId": "4da2a16b-5908-463f-d39b-7f298baff9f0",
        "colab": {
          "base_uri": "https://localhost:8080/",
          "height": 34
        }
      },
      "source": [
        "numbers = list(range(0,10))\n",
        "print(numbers)"
      ],
      "execution_count": 0,
      "outputs": [
        {
          "output_type": "stream",
          "text": [
            "[0, 1, 2, 3, 4, 5, 6, 7, 8, 9]\n"
          ],
          "name": "stdout"
        }
      ]
    },
    {
      "cell_type": "code",
      "metadata": {
        "id": "fljGGZPWEhcv",
        "colab_type": "code",
        "outputId": "84459e59-5183-432f-c7b3-7f0d12046c74",
        "colab": {
          "base_uri": "https://localhost:8080/",
          "height": 34
        }
      },
      "source": [
        "# Square numbers : Using a for loop\n",
        "squared_numbers = []\n",
        "for number in numbers:\n",
        "    squared_numbers.append(number ** 2)\n",
        "print(squared_numbers)"
      ],
      "execution_count": 0,
      "outputs": [
        {
          "output_type": "stream",
          "text": [
            "[0, 1, 4, 9, 16, 25, 36, 49, 64, 81]\n"
          ],
          "name": "stdout"
        }
      ]
    },
    {
      "cell_type": "code",
      "metadata": {
        "id": "-pVYBIM6Ehcy",
        "colab_type": "code",
        "outputId": "5647bfb8-8eff-4013-8b34-17eeeb46dfe4",
        "colab": {
          "base_uri": "https://localhost:8080/",
          "height": 34
        }
      },
      "source": [
        "# Square numbers : Using a map\n",
        "def square_num(x):\n",
        "    return x**2\n",
        "\n",
        "print(list(map(square_num, numbers)))"
      ],
      "execution_count": 0,
      "outputs": [
        {
          "output_type": "stream",
          "text": [
            "[0, 1, 4, 9, 16, 25, 36, 49, 64, 81]\n"
          ],
          "name": "stdout"
        }
      ]
    },
    {
      "cell_type": "code",
      "metadata": {
        "id": "edHdvLQkEhc0",
        "colab_type": "code",
        "outputId": "0221c330-340f-425e-be2a-4a87f7f531c2",
        "colab": {}
      },
      "source": [
        "# Square numbers : Using a map with lambda\n",
        "print(list(map(lambda x: x**2, numbers)))"
      ],
      "execution_count": 0,
      "outputs": [
        {
          "output_type": "stream",
          "text": [
            "[0, 1, 4, 9, 16, 25, 36, 49, 64, 81]\n"
          ],
          "name": "stdout"
        }
      ]
    },
    {
      "cell_type": "markdown",
      "metadata": {
        "id": "KFApCM81Ehc2",
        "colab_type": "text"
      },
      "source": [
        "### Filter"
      ]
    },
    {
      "cell_type": "markdown",
      "metadata": {
        "id": "6n4EekmiEhc3",
        "colab_type": "text"
      },
      "source": [
        "> Filters out items based on a test function which is a filter"
      ]
    },
    {
      "cell_type": "code",
      "metadata": {
        "id": "4O6Ps9bwEhc4",
        "colab_type": "code",
        "outputId": "5c64c4cf-3a64-41de-9a1a-8aa76ed8b41b",
        "colab": {}
      },
      "source": [
        "numbers = list(range(0,10))\n",
        "print(numbers)"
      ],
      "execution_count": 0,
      "outputs": [
        {
          "output_type": "stream",
          "text": [
            "[0, 1, 2, 3, 4, 5, 6, 7, 8, 9]\n"
          ],
          "name": "stdout"
        }
      ]
    },
    {
      "cell_type": "code",
      "metadata": {
        "id": "7Jxr1NTxEhc6",
        "colab_type": "code",
        "outputId": "c414ed30-d34b-42be-8877-f5129734516e",
        "colab": {}
      },
      "source": [
        "# Find odd numbers : Using a for loop\n",
        "odd_numbers = []\n",
        "for num in numbers:\n",
        "    if num%2 == 1:\n",
        "        odd_numbers.append(num)\n",
        "        \n",
        "print(odd_numbers)"
      ],
      "execution_count": 0,
      "outputs": [
        {
          "output_type": "stream",
          "text": [
            "[1, 3, 5, 7, 9]\n"
          ],
          "name": "stdout"
        }
      ]
    },
    {
      "cell_type": "code",
      "metadata": {
        "id": "M8wywQpTEhc9",
        "colab_type": "code",
        "outputId": "4235e351-ef7a-4dcf-a7c0-c2486e4e72da",
        "colab": {}
      },
      "source": [
        "# Filter out even numbers. Removes the elements that match the filter.\n",
        "print(list(filter(lambda x: x%2, numbers)))"
      ],
      "execution_count": 0,
      "outputs": [
        {
          "output_type": "stream",
          "text": [
            "[1, 3, 5, 7, 9]\n"
          ],
          "name": "stdout"
        }
      ]
    },
    {
      "cell_type": "markdown",
      "metadata": {
        "id": "9SdLqzKaEhc_",
        "colab_type": "text"
      },
      "source": [
        "### Reduce"
      ]
    },
    {
      "cell_type": "markdown",
      "metadata": {
        "id": "ZK7toaLnEhc_",
        "colab_type": "text"
      },
      "source": [
        ">  This function reduces a list to a single value by combining elements via a supplied function"
      ]
    },
    {
      "cell_type": "code",
      "metadata": {
        "id": "fiC3xMjIEhdA",
        "colab_type": "code",
        "outputId": "193918bd-f913-4dc7-9458-f8c687006d45",
        "colab": {}
      },
      "source": [
        "numbers = list(range(0,10))\n",
        "\n",
        "# Adding numbers: Using for loop\n",
        "total = 0\n",
        "for num in numbers:\n",
        "    total = total + num\n",
        "\n",
        "print(total)"
      ],
      "execution_count": 0,
      "outputs": [
        {
          "output_type": "stream",
          "text": [
            "45\n"
          ],
          "name": "stdout"
        }
      ]
    },
    {
      "cell_type": "code",
      "metadata": {
        "id": "BTbOFCC9EhdD",
        "colab_type": "code",
        "outputId": "4a72dbfe-881a-4d26-d1f1-377597119089",
        "colab": {}
      },
      "source": [
        "# Adding numbers: Using reduce\n",
        "\n",
        "from functools import reduce\n",
        "reduce((lambda x,y: x+y), numbers)"
      ],
      "execution_count": 0,
      "outputs": [
        {
          "output_type": "execute_result",
          "data": {
            "text/plain": [
              "45"
            ]
          },
          "metadata": {
            "tags": []
          },
          "execution_count": 92
        }
      ]
    },
    {
      "cell_type": "code",
      "metadata": {
        "id": "kEX_WhvkEhdG",
        "colab_type": "code",
        "outputId": "83105d8c-44c8-44ff-9a2e-31b7a4e4e0d2",
        "colab": {}
      },
      "source": [
        "# Bad example - can call the sum() method on list\n",
        "sum(numbers)"
      ],
      "execution_count": 0,
      "outputs": [
        {
          "output_type": "execute_result",
          "data": {
            "text/plain": [
              "45"
            ]
          },
          "metadata": {
            "tags": []
          },
          "execution_count": 93
        }
      ]
    },
    {
      "cell_type": "markdown",
      "metadata": {
        "id": "2yPKm7KTEssQ",
        "colab_type": "text"
      },
      "source": [
        "### Itertools\n",
        "\n",
        "The functions provided are inspired by similar features of “lazy functional programming languages”. \n",
        "\n",
        "**Why iterators?**  \n",
        "Iterator-based code may be preferred over code which uses lists for several reasons. Since data is not produced from the iterator until it is needed, all of the data is not stored in memory at the same time. "
      ]
    },
    {
      "cell_type": "code",
      "metadata": {
        "id": "y-r9yFqZFgup",
        "colab_type": "code",
        "outputId": "bfdc9850-80c9-4f10-9ee4-b5d157efb60b",
        "colab": {
          "base_uri": "https://localhost:8080/",
          "height": 121
        }
      },
      "source": [
        "first_list = [1,2,3]\n",
        "second_list = ['a','b','c']\n",
        "\n",
        "# Need a function that iterates over the concatenation of both the lists\n",
        "# Simple way\n",
        "\n",
        "third_list = first_list + second_list\n",
        "for i in third_list:\n",
        "  print(i)\n",
        "\n"
      ],
      "execution_count": 0,
      "outputs": [
        {
          "output_type": "stream",
          "text": [
            "1\n",
            "2\n",
            "3\n",
            "a\n",
            "b\n",
            "c\n"
          ],
          "name": "stdout"
        }
      ]
    },
    {
      "cell_type": "code",
      "metadata": {
        "id": "h3EnTuJ_FwdH",
        "colab_type": "code",
        "outputId": "44782cdc-a36e-466c-d57e-ed1ea2b08859",
        "colab": {
          "base_uri": "https://localhost:8080/",
          "height": 121
        }
      },
      "source": [
        "# Disadvantage of the previous approach: Now you have first_list, second_list and third_list in memory. third_list is essentially redundant since it is just a concatenation of first_list and second_list. Instead create an iterator.\n",
        "from itertools import *\n",
        "chained_list = chain(first_list, second_list)\n",
        "\n",
        "# chaining together multiple iterables\n",
        "for i in chain(chained_list):\n",
        "  print(i)\n"
      ],
      "execution_count": 0,
      "outputs": [
        {
          "output_type": "stream",
          "text": [
            "1\n",
            "2\n",
            "3\n",
            "a\n",
            "b\n",
            "c\n"
          ],
          "name": "stdout"
        }
      ]
    },
    {
      "cell_type": "code",
      "metadata": {
        "id": "bLZ1PKAkHI6H",
        "colab_type": "code",
        "outputId": "7b137a76-7cea-4568-fa25-17c0b9daa3f3",
        "colab": {
          "base_uri": "https://localhost:8080/",
          "height": 52
        }
      },
      "source": [
        "#!pip install pympler\n",
        "from pympler.asizeof import asizeof\n",
        "\n",
        "print(asizeof(third_list))\n",
        "print(asizeof(chained_list))"
      ],
      "execution_count": 0,
      "outputs": [
        {
          "output_type": "stream",
          "text": [
            "400\n",
            "56\n"
          ],
          "name": "stdout"
        }
      ]
    },
    {
      "cell_type": "code",
      "metadata": {
        "id": "PoAg74ykHJsc",
        "colab_type": "code",
        "outputId": "a72d3b4a-6974-4971-ad97-62253f12d7df",
        "colab": {
          "base_uri": "https://localhost:8080/",
          "height": 69
        }
      },
      "source": [
        "# Groupby\n",
        "\n",
        "data = [(\"key1\", \"value1\"), (\"key1\", \"value2\"), (\"key2\", \"value3\"), (\"key3\", \"value4\"), (\"key3\", \"value5\")]\n",
        "for key, values in groupby(data, lambda x: x[0]):\n",
        "    print(key, list(values))"
      ],
      "execution_count": 0,
      "outputs": [
        {
          "output_type": "stream",
          "text": [
            "key1 [('key1', 'value1'), ('key1', 'value2')]\n",
            "key2 [('key2', 'value3')]\n",
            "key3 [('key3', 'value4'), ('key3', 'value5')]\n"
          ],
          "name": "stdout"
        }
      ]
    },
    {
      "cell_type": "code",
      "metadata": {
        "id": "eGVFyO22UnGw",
        "colab_type": "code",
        "outputId": "52b98ffd-3b8d-4d99-d9b0-8eaf21d09824",
        "colab": {
          "base_uri": "https://localhost:8080/",
          "height": 34
        }
      },
      "source": [
        "# Permutations\n",
        "\n",
        "sample = [\"A\",\"B\",\"C\"]\n",
        "list(permutations(sample, 2))"
      ],
      "execution_count": 0,
      "outputs": [
        {
          "output_type": "execute_result",
          "data": {
            "text/plain": [
              "[('A', 'B'), ('A', 'C'), ('B', 'A'), ('B', 'C'), ('C', 'A'), ('C', 'B')]"
            ]
          },
          "metadata": {
            "tags": []
          },
          "execution_count": 31
        }
      ]
    },
    {
      "cell_type": "code",
      "metadata": {
        "id": "Lf_RCFezU3pl",
        "colab_type": "code",
        "outputId": "1a2d6bc9-8a00-446b-8154-18b91fbde630",
        "colab": {
          "base_uri": "https://localhost:8080/",
          "height": 34
        }
      },
      "source": [
        "# Combinations\n",
        "\n",
        "sample = [\"A\",\"B\",\"C\"]\n",
        "list(combinations(sample,2))"
      ],
      "execution_count": 0,
      "outputs": [
        {
          "output_type": "execute_result",
          "data": {
            "text/plain": [
              "[('A', 'B'), ('A', 'C'), ('B', 'C')]"
            ]
          },
          "metadata": {
            "tags": []
          },
          "execution_count": 33
        }
      ]
    },
    {
      "cell_type": "markdown",
      "metadata": {
        "id": "mv4jDRGRs_-f",
        "colab_type": "text"
      },
      "source": [
        "### List Comprehensions\n",
        "\n",
        "List Comprehensions provide an elegant way to create new lists. The following is the basic structure of a list comprehension:\n",
        "\n",
        "output_list = [output_exp for var in input_list if (var satisfies this condition)]\n",
        "\n",
        "Note that list comprehension may or may not contain an if condition. List comprehensions can contain multiple for (nested list comprehensions).\n",
        "\n"
      ]
    },
    {
      "cell_type": "code",
      "metadata": {
        "id": "d3EhBRWAuB80",
        "colab_type": "code",
        "outputId": "f5bf5261-56e9-4057-a745-8bd531bad599",
        "colab": {
          "base_uri": "https://localhost:8080/",
          "height": 34
        }
      },
      "source": [
        "# Usual way of writing a for loop\n",
        "\n",
        "numbers = [1, 2, 3, 4, 5]\n",
        "squares = []\n",
        "\n",
        "for n in numbers:\n",
        "  squares.append(n**2)\n",
        "\n",
        "print(squares) "
      ],
      "execution_count": 0,
      "outputs": [
        {
          "output_type": "stream",
          "text": [
            "[1, 4, 9, 16, 25]\n"
          ],
          "name": "stdout"
        }
      ]
    },
    {
      "cell_type": "code",
      "metadata": {
        "id": "XjTi3JM0uO-v",
        "colab_type": "code",
        "outputId": "66591f34-b787-4e0b-a49a-c2ad9e7af578",
        "colab": {
          "base_uri": "https://localhost:8080/",
          "height": 34
        }
      },
      "source": [
        "# Using List comprehensions\n",
        "\n",
        "numbers = [1, 2, 3, 4, 5]\n",
        "squares = [n**2 for n in numbers]\n",
        "\n",
        "print(squares) "
      ],
      "execution_count": 0,
      "outputs": [
        {
          "output_type": "stream",
          "text": [
            "[1, 4, 9, 16, 25]\n"
          ],
          "name": "stdout"
        }
      ]
    },
    {
      "cell_type": "markdown",
      "metadata": {
        "id": "XfuJqoo5vrOQ",
        "colab_type": "text"
      },
      "source": [
        "**Using if condition in List Comprehension**"
      ]
    },
    {
      "cell_type": "code",
      "metadata": {
        "id": "JBS9nWyzvI_6",
        "colab_type": "code",
        "outputId": "5d6f3d6e-9aca-43e9-cd54-54d751ffe31e",
        "colab": {
          "base_uri": "https://localhost:8080/",
          "height": 34
        }
      },
      "source": [
        "#Suppose we want to create an output list which contains only the even numbers which are present in the input list. \n",
        "#Let’s see how to do this using for loops and list comprehension and decide which method suits better.\n",
        "\n",
        "# Constructing output list WITHOUT \n",
        "# Using List comprehensions \n",
        "input_list = [1, 2, 3, 4, 4, 5, 6, 7, 7] \n",
        "  \n",
        "output_list = [] \n",
        "  \n",
        "# Using loop for constructing output list \n",
        "for var in input_list: \n",
        "    if var % 2 == 0: \n",
        "        output_list.append(var) \n",
        "  \n",
        "print(\"Output List using for loop:\", output_list) "
      ],
      "execution_count": 0,
      "outputs": [
        {
          "output_type": "stream",
          "text": [
            "Output List using for loop: [2, 4, 4, 6]\n"
          ],
          "name": "stdout"
        }
      ]
    },
    {
      "cell_type": "code",
      "metadata": {
        "id": "nlCgwHysvTi2",
        "colab_type": "code",
        "outputId": "d07afd78-7e49-4143-a31a-86e698f40063",
        "colab": {
          "base_uri": "https://localhost:8080/",
          "height": 34
        }
      },
      "source": [
        "# Using List comprehensions \n",
        "# for constructing output list \n",
        "  \n",
        "input_list = [1, 2, 3, 4, 4, 5, 6, 7, 7] \n",
        "  \n",
        "  \n",
        "list_using_comp = [var for var in input_list if var % 2 == 0] \n",
        "  \n",
        "print(\"Output List using list comprehensions:\", \n",
        "                               list_using_comp) "
      ],
      "execution_count": 0,
      "outputs": [
        {
          "output_type": "stream",
          "text": [
            "Output List using list comprehensions: [2, 4, 4, 6]\n"
          ],
          "name": "stdout"
        }
      ]
    },
    {
      "cell_type": "markdown",
      "metadata": {
        "id": "DvVQNPnTv-qH",
        "colab_type": "text"
      },
      "source": [
        "**Using multiple for loops in List Comprehensions**"
      ]
    },
    {
      "cell_type": "code",
      "metadata": {
        "id": "akP2UFRVwC-G",
        "colab_type": "code",
        "outputId": "410da2c2-9528-434d-b193-bac4736b7015",
        "colab": {
          "base_uri": "https://localhost:8080/",
          "height": 34
        }
      },
      "source": [
        "# Find common numbers from two list using list comprehension:\n",
        "\n",
        "# Without List comprehension\n",
        "\n",
        "list_a = [1, 2, 3, 4]\n",
        "list_b = [2, 3, 4, 5]\n",
        "\n",
        "common_num = []\n",
        "\n",
        "for a in list_a:\n",
        "  for b in list_b:\n",
        "    if a == b:\n",
        "      common_num.append(a)\n",
        "      \n",
        "print(common_num)"
      ],
      "execution_count": 0,
      "outputs": [
        {
          "output_type": "stream",
          "text": [
            "[2, 3, 4]\n"
          ],
          "name": "stdout"
        }
      ]
    },
    {
      "cell_type": "code",
      "metadata": {
        "id": "uqBrvz0FwS5t",
        "colab_type": "code",
        "outputId": "19606b11-cb0b-495d-d333-6c3179e1590b",
        "colab": {
          "base_uri": "https://localhost:8080/",
          "height": 34
        }
      },
      "source": [
        "# With List comprehension\n",
        "\n",
        "list_a = [1, 2, 3, 4]\n",
        "list_b = [2, 3, 4, 5]\n",
        "\n",
        "common_num = [a for a in list_a for b in list_b if a == b]\n",
        "\n",
        "print(common_num)"
      ],
      "execution_count": 0,
      "outputs": [
        {
          "output_type": "stream",
          "text": [
            "[2, 3, 4]\n"
          ],
          "name": "stdout"
        }
      ]
    },
    {
      "cell_type": "markdown",
      "metadata": {
        "id": "2c8Ygx1TxbNW",
        "colab_type": "text"
      },
      "source": [
        "### Dictionary Comprehensions\n",
        "\n",
        "Extending the idea of list comprehensions, we can also create a dictionary using dictionary comprehensions. The basic structure of a dictionary comprehension looks like below.\n",
        "\n",
        "output_dict = {key:value for (key, value) in iterable if (key, value satisfy this condition)}"
      ]
    },
    {
      "cell_type": "code",
      "metadata": {
        "id": "CVMrWAWaxnit",
        "colab_type": "code",
        "outputId": "aa17a0f1-1428-4fae-fe97-6901d426e47f",
        "colab": {
          "base_uri": "https://localhost:8080/",
          "height": 34
        }
      },
      "source": [
        "# Suppose we want to create an output dictionary which contains only the odd numbers that are present in the input list as keys and their \n",
        "# cubes as values. Let’s see how to do this using for loops and dictionary comprehension.\n",
        "\n",
        "# Without Dictionary Comprehension\n",
        "\n",
        "input_list = [1, 2, 3, 4, 5, 6, 7] \n",
        "  \n",
        "output_dict = {} \n",
        "  \n",
        "# Using loop for constructing output dictionary \n",
        "for var in input_list: \n",
        "    if var % 2 != 0: \n",
        "        output_dict[var] = var**3\n",
        "  \n",
        "print(\"Output Dictionary using for loop:\", \n",
        "                             output_dict )"
      ],
      "execution_count": 0,
      "outputs": [
        {
          "output_type": "stream",
          "text": [
            "Output Dictionary using for loop: {1: 1, 3: 27, 5: 125, 7: 343}\n"
          ],
          "name": "stdout"
        }
      ]
    },
    {
      "cell_type": "code",
      "metadata": {
        "id": "4bhiHqNuxyQE",
        "colab_type": "code",
        "outputId": "443f61e9-09ff-4508-877f-3de512485de2",
        "colab": {
          "base_uri": "https://localhost:8080/",
          "height": 34
        }
      },
      "source": [
        "# Using Dictionary Comprehension\n",
        "\n",
        "input_list = [1,2,3,4,5,6,7] \n",
        "  \n",
        "dict_using_comp = {var:var ** 3 for var in input_list if var % 2 != 0} \n",
        "  \n",
        "print(\"Output Dictionary using dictionary comprehensions:\", \n",
        "                                           dict_using_comp)"
      ],
      "execution_count": 0,
      "outputs": [
        {
          "output_type": "stream",
          "text": [
            "Output Dictionary using dictionary comprehensions: {1: 1, 3: 27, 5: 125, 7: 343}\n"
          ],
          "name": "stdout"
        }
      ]
    },
    {
      "cell_type": "code",
      "metadata": {
        "id": "aW6ppbtQyPEX",
        "colab_type": "code",
        "outputId": "0390c9ca-62a7-4eb9-acf7-75ac26380da9",
        "colab": {
          "base_uri": "https://localhost:8080/",
          "height": 34
        }
      },
      "source": [
        "# Given two lists containing the names of states and their corresponding capitals, construct a dictionary which maps the states \n",
        "# with their respective capitals. Let’s see how to do this using for loops and dictionary comprehension.\n",
        "\n",
        "# Without using Dictionary comprehension\n",
        "\n",
        "state = ['Gujarat', 'Maharashtra', 'Rajasthan'] \n",
        "capital = ['Gandhinagar', 'Mumbai', 'Jaipur'] \n",
        "  \n",
        "output_dict = {} \n",
        "  \n",
        "# Using loop for constructing output dictionary \n",
        "for (key, value) in zip(state, capital): \n",
        "    output_dict[key] = value \n",
        "  \n",
        "print(\"Output Dictionary using for loop:\", \n",
        "                              output_dict) "
      ],
      "execution_count": 0,
      "outputs": [
        {
          "output_type": "stream",
          "text": [
            "Output Dictionary using for loop: {'Gujarat': 'Gandhinagar', 'Maharashtra': 'Mumbai', 'Rajasthan': 'Jaipur'}\n"
          ],
          "name": "stdout"
        }
      ]
    },
    {
      "cell_type": "code",
      "metadata": {
        "id": "JWgv5LA4yZ8u",
        "colab_type": "code",
        "outputId": "db7e2924-271e-4680-fbd7-3b87998e9d30",
        "colab": {
          "base_uri": "https://localhost:8080/",
          "height": 34
        }
      },
      "source": [
        "# Using Dictionary Comprehension\n",
        "\n",
        "state = ['Gujarat', 'Maharashtra', 'Rajasthan'] \n",
        "capital = ['Gandhinagar', 'Mumbai', 'Jaipur'] \n",
        "  \n",
        "dict_using_comp = {key:value for (key, value) in zip(state, capital)} \n",
        "  \n",
        "print(\"Output Dictionary using dictionary comprehensions:\",  \n",
        "                                           dict_using_comp)"
      ],
      "execution_count": 0,
      "outputs": [
        {
          "output_type": "stream",
          "text": [
            "Output Dictionary using dictionary comprehensions: {'Gujarat': 'Gandhinagar', 'Maharashtra': 'Mumbai', 'Rajasthan': 'Jaipur'}\n"
          ],
          "name": "stdout"
        }
      ]
    },
    {
      "cell_type": "markdown",
      "metadata": {
        "id": "Nmk2ukgFTjBz",
        "colab_type": "text"
      },
      "source": [
        "## Time"
      ]
    },
    {
      "cell_type": "code",
      "metadata": {
        "id": "mT7A-O8PTDg3",
        "colab_type": "code",
        "outputId": "016502cb-c149-456f-fdd2-2ad452857eaf",
        "colab": {
          "base_uri": "https://localhost:8080/",
          "height": 34
        }
      },
      "source": [
        "import time\n",
        "print(time.time())"
      ],
      "execution_count": 0,
      "outputs": [
        {
          "output_type": "stream",
          "text": [
            "1572897376.7862399\n"
          ],
          "name": "stdout"
        }
      ]
    },
    {
      "cell_type": "code",
      "metadata": {
        "id": "LDMnsZhYTNLm",
        "colab_type": "code",
        "outputId": "6330ad35-4b77-49ca-a44c-2ceebeef616b",
        "colab": {
          "base_uri": "https://localhost:8080/",
          "height": 34
        }
      },
      "source": [
        "#Using simple python list\n",
        "t_start = time.time()\n",
        "\n",
        "###Enclose any task here to measure its execution time\n",
        "#time.sleep(5)\n",
        "\n",
        "t_end = time.time()\n",
        "print(\"The time taken is \"+str(t_end-t_start))"
      ],
      "execution_count": 0,
      "outputs": [
        {
          "output_type": "stream",
          "text": [
            "3.838539123535156e-05\n"
          ],
          "name": "stdout"
        }
      ]
    },
    {
      "cell_type": "markdown",
      "metadata": {
        "id": "9uZZ3PFmQJol",
        "colab_type": "text"
      },
      "source": [
        "## Numpy"
      ]
    },
    {
      "cell_type": "markdown",
      "metadata": {
        "id": "2zfuN8htQ7lq",
        "colab_type": "text"
      },
      "source": [
        "### How do we make a list/array of 10^8 zeroes"
      ]
    },
    {
      "cell_type": "code",
      "metadata": {
        "id": "RuVX3McASLtc",
        "colab_type": "code",
        "outputId": "23ad70cf-14d0-4b73-fa6f-94cf00d358f5",
        "colab": {
          "base_uri": "https://localhost:8080/",
          "height": 34
        }
      },
      "source": [
        "list_size = pow(10,8) # or list_size = 10**8\n",
        "print(list_size)"
      ],
      "execution_count": 0,
      "outputs": [
        {
          "output_type": "stream",
          "text": [
            "100000000\n"
          ],
          "name": "stdout"
        }
      ]
    },
    {
      "cell_type": "code",
      "metadata": {
        "id": "OyCKevC1QN2y",
        "colab_type": "code",
        "outputId": "27ad0046-2a12-4b98-9794-49f49a78ffa3",
        "colab": {
          "base_uri": "https://localhost:8080/",
          "height": 34
        }
      },
      "source": [
        "#Using simple python list\n",
        "t_start = time.time()\n",
        "z_l = []\n",
        "for i in range(0,list_size):\n",
        "  z_l.append(0)\n",
        "t_end = time.time()\n",
        "print(\"The time taken is \"+str(t_end-t_start))"
      ],
      "execution_count": 0,
      "outputs": [
        {
          "output_type": "stream",
          "text": [
            "The time taken is 11.238399505615234\n"
          ],
          "name": "stdout"
        }
      ]
    },
    {
      "cell_type": "code",
      "metadata": {
        "id": "4kF5H_7MRKlX",
        "colab_type": "code",
        "outputId": "be128ff2-1002-4ab0-ab1a-4e75d7c3ac6d",
        "colab": {
          "base_uri": "https://localhost:8080/",
          "height": 34
        }
      },
      "source": [
        "#Using list comprehensions\n",
        "t_start = time.time()\n",
        "z_lc = []\n",
        "z_lc = [0 for i in range(0,list_size)]\n",
        "t_end = time.time()\n",
        "print(\"The time taken is \"+str(t_end-t_start))"
      ],
      "execution_count": 0,
      "outputs": [
        {
          "output_type": "stream",
          "text": [
            "The time taken is 5.852916479110718\n"
          ],
          "name": "stdout"
        }
      ]
    },
    {
      "cell_type": "code",
      "metadata": {
        "id": "obwUpRdLQoxB",
        "colab_type": "code",
        "outputId": "9cb10c39-8c6b-4c2b-804d-3c83f52cd44a",
        "colab": {
          "base_uri": "https://localhost:8080/",
          "height": 34
        }
      },
      "source": [
        "import numpy as np\n",
        "\n",
        "\n",
        "#Using numpy\n",
        "t_start = time.time()\n",
        "z_np = np.zeros((list_size))\n",
        "t_end = time.time()\n",
        "print(\"The time taken is \"+str(t_end-t_start))"
      ],
      "execution_count": 0,
      "outputs": [
        {
          "output_type": "stream",
          "text": [
            "The time taken is 0.21720027923583984\n"
          ],
          "name": "stdout"
        }
      ]
    },
    {
      "cell_type": "code",
      "metadata": {
        "id": "DUQiW_0pQt-L",
        "colab_type": "code",
        "outputId": "c2b9e9ca-7f09-491a-d64a-e9e79677891e",
        "colab": {
          "base_uri": "https://localhost:8080/",
          "height": 34
        }
      },
      "source": [
        "type(z_lc)"
      ],
      "execution_count": 0,
      "outputs": [
        {
          "output_type": "execute_result",
          "data": {
            "text/plain": [
              "list"
            ]
          },
          "metadata": {
            "tags": []
          },
          "execution_count": 23
        }
      ]
    },
    {
      "cell_type": "code",
      "metadata": {
        "id": "GZfS1FKyS4Ks",
        "colab_type": "code",
        "outputId": "7ee9191e-4b86-44ae-a186-e7f73a402177",
        "colab": {
          "base_uri": "https://localhost:8080/",
          "height": 34
        }
      },
      "source": [
        "#Adding 2 to each element of z\n",
        "t_start = time.time()\n",
        "\n",
        "#z_lc = [(i+2) for i in z_lc]\n",
        "#z_np = z_np + 2\n",
        "\n",
        "t_end = time.time()\n",
        "print(\"The time taken is \"+str(t_end-t_start))"
      ],
      "execution_count": 0,
      "outputs": [
        {
          "output_type": "stream",
          "text": [
            "The time taken is 4.291534423828125e-05\n"
          ],
          "name": "stdout"
        }
      ]
    },
    {
      "cell_type": "code",
      "metadata": {
        "id": "XSNEmHrerJSh",
        "colab_type": "code",
        "outputId": "fc203061-c376-4382-b5cd-e6201cf1b426",
        "colab": {
          "base_uri": "https://localhost:8080/",
          "height": 34
        }
      },
      "source": [
        "#Squaring function\n",
        "t_start = time.time()\n",
        "\n",
        "z2 = [square_num(i) for i in z_lc]\n",
        "\n",
        "t_end = time.time()\n",
        "print(\"The time taken is \"+str(t_end-t_start))"
      ],
      "execution_count": 0,
      "outputs": [
        {
          "output_type": "stream",
          "text": [
            "The time taken is 30.371249675750732\n"
          ],
          "name": "stdout"
        }
      ]
    },
    {
      "cell_type": "code",
      "metadata": {
        "id": "dCMi1YhTwz5d",
        "colab_type": "code",
        "outputId": "37c2af23-4f54-4252-ce84-e496d1056924",
        "colab": {
          "base_uri": "https://localhost:8080/",
          "height": 34
        }
      },
      "source": [
        "#Squaring function\n",
        "t_start = time.time()\n",
        "\n",
        "z2_np = square_num(z_np)\n",
        "\n",
        "t_end = time.time()\n",
        "print(\"The time taken is \"+str(t_end-t_start))\n"
      ],
      "execution_count": 0,
      "outputs": [
        {
          "output_type": "stream",
          "text": [
            "The time taken is 0.26033449172973633\n"
          ],
          "name": "stdout"
        }
      ]
    },
    {
      "cell_type": "markdown",
      "metadata": {
        "id": "9CSPaj8xxzV1",
        "colab_type": "text"
      },
      "source": [
        "### To conclude, the more FOR loops your code has the more inefficient it is. Numpy makes use of your multi-core CPU while also making the syntax much more intuitive."
      ]
    },
    {
      "cell_type": "markdown",
      "metadata": {
        "id": "XOiFCR0yBw1U",
        "colab_type": "text"
      },
      "source": [
        "### OPTIONAL"
      ]
    },
    {
      "cell_type": "code",
      "metadata": {
        "id": "dC-O-NQ-1V91",
        "colab_type": "code",
        "outputId": "06057441-947f-406b-e457-516ee6fbb57d",
        "colab": {
          "base_uri": "https://localhost:8080/",
          "height": 34
        }
      },
      "source": [
        "import torch\n",
        "device = torch.device(\"cuda:0\" if torch.cuda.is_available() else \"cpu\")\n",
        "z_t = torch.tensor(z_np).to(device)"
      ],
      "execution_count": 0,
      "outputs": [
        {
          "output_type": "stream",
          "text": [
            "The time taken is 0.03542637825012207\n"
          ],
          "name": "stdout"
        }
      ]
    },
    {
      "cell_type": "code",
      "metadata": {
        "id": "8lyGiFORAtE6",
        "colab_type": "code",
        "colab": {}
      },
      "source": [
        "t_start = time.time()\n",
        "\n",
        "z2_t = square_num(z_t)\n",
        "\n",
        "t_end = time.time()\n",
        "print(\"The time taken is \"+str(t_end-t_start))"
      ],
      "execution_count": 0,
      "outputs": []
    },
    {
      "cell_type": "markdown",
      "metadata": {
        "id": "lHMgRtE7PBRj",
        "colab_type": "text"
      },
      "source": [
        "### Commonly used Numpy functions"
      ]
    },
    {
      "cell_type": "code",
      "metadata": {
        "id": "1MU6gyB-_30M",
        "colab_type": "code",
        "outputId": "f6621113-9651-482a-9551-829b4ea0c93f",
        "colab": {
          "base_uri": "https://localhost:8080/",
          "height": 170
        }
      },
      "source": [
        "a = np.zeros((2,2))   # Create an array of all zeros - similarly we also have np.ones,np.eye(feel free to explore)\n",
        "print(a)              # Prints \"[[ 0.  0.]\n",
        "                      #          [ 0.  0.]]\"\n",
        "\n",
        "\n",
        "\n",
        "c = np.full((2,2), 7)  # Create a constant array\n",
        "print(c)               # Prints \"[[ 7.  7.]\n",
        "                       #          [ 7.  7.]]\"\n",
        "\n",
        "d = np.eye(2)         # Create a 2x2 identity matrix\n",
        "print(d)              # Prints \"[[ 1.  0.]\n",
        "                      #          [ 0.  1.]]\"\n",
        "\n",
        "e = np.random.random((2,2))  # Create an array filled with random values\n",
        "print(e)                    "
      ],
      "execution_count": 0,
      "outputs": [
        {
          "output_type": "stream",
          "text": [
            "[[0. 0.]\n",
            " [0. 0.]]\n",
            "[[1. 1.]]\n",
            "[[7 7]\n",
            " [7 7]]\n",
            "[[1. 0.]\n",
            " [0. 1.]]\n",
            "[[0.40080565 0.26830702]\n",
            " [0.91699835 0.33672928]]\n"
          ],
          "name": "stdout"
        }
      ]
    },
    {
      "cell_type": "code",
      "metadata": {
        "id": "XTiP7Zk3Mjbt",
        "colab_type": "code",
        "outputId": "7060bb00-a6cd-4b88-ecaf-8ebb05b60f2a",
        "colab": {
          "base_uri": "https://localhost:8080/",
          "height": 51
        }
      },
      "source": [
        "a = np.array([[1,2,3,4], [5,6,7,8], [9,10,11,12]])\n",
        "\n",
        "# Use slicing to pull out the subarray consisting of the first 2 rows\n",
        "# and columns 1 and 2; b is the following array of shape (2, 2):\n",
        "# [[2 3]\n",
        "#  [6 7]]\n",
        "b = a[:2, 1:3]\n",
        "\n",
        "# A slice of an array is a view into the same data, so modifying it\n",
        "# will modify the original array.\n",
        "print(a[0, 1])   # Prints \"2\"\n",
        "b[0, 0] = 77     # b[0, 0] is the same piece of data as a[0, 1]\n",
        "print(a[0, 1])   # Prints \"77\""
      ],
      "execution_count": 0,
      "outputs": [
        {
          "output_type": "stream",
          "text": [
            "2\n",
            "77\n"
          ],
          "name": "stdout"
        }
      ]
    },
    {
      "cell_type": "code",
      "metadata": {
        "id": "XCNE9I7gMusd",
        "colab_type": "code",
        "outputId": "150c0fb5-202d-4a24-f791-633435f520d7",
        "colab": {
          "base_uri": "https://localhost:8080/",
          "height": 119
        }
      },
      "source": [
        "x = np.array([[1,2],[3,4]], dtype=np.float64)\n",
        "y = np.array([[5,6],[7,8]], dtype=np.int64)\n",
        "y = y.astype(np.float64)\n",
        "\n",
        "\n",
        "# Elementwise sum; both produce the array\n",
        "# [[ 6.0  8.0]\n",
        "#  [10.0 12.0]]\n",
        "print(x + y)\n",
        "print(np.add(x, y))\n",
        "\n",
        "\n",
        "# Elementwise square root; produces the array\n",
        "# [[ 1.          1.41421356]\n",
        "#  [ 1.73205081  2.        ]]\n",
        "print(np.sqrt(x))"
      ],
      "execution_count": 0,
      "outputs": [
        {
          "output_type": "stream",
          "text": [
            "[[ 6.  8.]\n",
            " [10. 12.]]\n",
            "[[ 6.  8.]\n",
            " [10. 12.]]\n",
            "[[1.         1.41421356]\n",
            " [1.73205081 2.        ]]\n"
          ],
          "name": "stdout"
        }
      ]
    },
    {
      "cell_type": "code",
      "metadata": {
        "id": "OKBhoUiENQWT",
        "colab_type": "code",
        "outputId": "b5623203-835a-4adc-ad51-671ea8d73697",
        "colab": {
          "base_uri": "https://localhost:8080/",
          "height": 68
        }
      },
      "source": [
        "x = np.array([[1,2],[3,4]])\n",
        "\n",
        "print(np.sum(x))  # Compute sum of all elements; prints \"10\"\n",
        "print(np.sum(x, axis=0))  # Compute sum of each column; prints \"[4 6]\"\n",
        "print(np.sum(x, axis=1))  # Compute sum of each row; prints \"[3 7]\""
      ],
      "execution_count": 0,
      "outputs": [
        {
          "output_type": "stream",
          "text": [
            "10\n",
            "[4 6]\n",
            "[3 7]\n"
          ],
          "name": "stdout"
        }
      ]
    },
    {
      "cell_type": "code",
      "metadata": {
        "id": "XKezl-SJNfF2",
        "colab_type": "code",
        "colab": {}
      },
      "source": [
        ""
      ],
      "execution_count": 0,
      "outputs": []
    },
    {
      "cell_type": "markdown",
      "metadata": {
        "id": "5ui3hBydO1BB",
        "colab_type": "text"
      },
      "source": [
        "# References\n",
        "\n",
        "\n",
        "*   http://cs231n.github.io/python-numpy-tutorial/\n",
        "*   \n",
        "\n"
      ]
    }
  ]
}